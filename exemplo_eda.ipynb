{
 "cells": [
  {
   "cell_type": "markdown",
   "metadata": {},
   "source": [
    "# Desafio - Exploratory Data Analysis"
   ]
  },
  {
   "cell_type": "markdown",
   "metadata": {},
   "source": [
    "#### Hipóteses: H1 - Existe alguma predominância de sexo nos consumidores? H2 - Qual a faixa etária mais frequente entre os consumidores? H3 - Quais são os principais meios de contratação do serviço? H4 - Qual o grupo de problema mais frequente? H5 - Quais são os principais concorrentes desse serviço? H6 - A quarentena afetou esse serviço?"
   ]
  },
  {
   "cell_type": "code",
   "execution_count": 194,
   "metadata": {},
   "outputs": [],
   "source": [
    "# Importa as bibliotecas\n",
    "import pandas as pd\n",
    "import numpy as np\n",
    "import matplotlib.pyplot as plt\n",
    "import seaborn as sns"
   ]
  },
  {
   "cell_type": "code",
   "execution_count": 195,
   "metadata": {},
   "outputs": [],
   "source": [
    "# Configuração para o matplotlib\n",
    "%matplotlib inline"
   ]
  },
  {
   "cell_type": "code",
   "execution_count": 196,
   "metadata": {},
   "outputs": [],
   "source": [
    "# Lê o arquivo CSV\n",
    "df1 = pd.read_csv('2020-01.csv', sep=';', encoding='latin1') \n",
    "df2 = pd.read_csv('2020-02.csv', sep=';', encoding='latin1')\n",
    "df3 = pd.read_csv('2020-03.csv', sep=';', encoding='latin1')\n",
    "df4 = pd.read_csv('2020-04.csv', sep=';', encoding='latin1')\n",
    "df5 = pd.read_csv('2020-05.csv', sep=';', encoding='latin1')\n",
    "df6 = pd.read_csv('2020-06.csv', sep=';', encoding='latin1')\n",
    "df7 = pd.read_csv('2020-07.csv', sep=';', encoding='latin1')"
   ]
  },
  {
   "cell_type": "code",
   "execution_count": 197,
   "metadata": {},
   "outputs": [],
   "source": [
    "list_columns = ['Região', 'UF', 'Cidade', 'Sexo', 'Faixa Etária', 'Data Finalização',\n",
    "       'Tempo Resposta', 'Nome Fantasia', 'Segmento de Mercado', 'Área',\n",
    "       'Assunto', 'Grupo Problema', 'Problema', 'Como Comprou Contratou',\n",
    "       'Procurou Empresa', 'Respondida', 'Situação', 'Avaliação Reclamação',\n",
    "       'Nota do Consumidor', 'Total']"
   ]
  },
  {
   "cell_type": "code",
   "execution_count": 198,
   "metadata": {},
   "outputs": [],
   "source": [
    "_ = df1.merge(df2, how='outer', on=list_columns)\n",
    "_ = _.merge(df3, how='outer', on=list_columns)\n",
    "_ = _.merge(df4, how='outer', on=list_columns)\n",
    "_ = _.merge(df5, how='outer', on=list_columns)\n",
    "_ = _.merge(df6, how='outer', on=list_columns)\n",
    "df = _.merge(df7, how='outer', on=list_columns)"
   ]
  },
  {
   "cell_type": "markdown",
   "metadata": {},
   "source": [
    "### Início da Análise"
   ]
  },
  {
   "cell_type": "code",
   "execution_count": 199,
   "metadata": {},
   "outputs": [
    {
     "data": {
      "text/html": [
       "<div>\n",
       "<style scoped>\n",
       "    .dataframe tbody tr th:only-of-type {\n",
       "        vertical-align: middle;\n",
       "    }\n",
       "\n",
       "    .dataframe tbody tr th {\n",
       "        vertical-align: top;\n",
       "    }\n",
       "\n",
       "    .dataframe thead th {\n",
       "        text-align: right;\n",
       "    }\n",
       "</style>\n",
       "<table border=\"1\" class=\"dataframe\">\n",
       "  <thead>\n",
       "    <tr style=\"text-align: right;\">\n",
       "      <th></th>\n",
       "      <th>Região</th>\n",
       "      <th>UF</th>\n",
       "      <th>Cidade</th>\n",
       "      <th>Sexo</th>\n",
       "      <th>Faixa Etária</th>\n",
       "      <th>Data Finalização</th>\n",
       "      <th>Tempo Resposta</th>\n",
       "      <th>Nome Fantasia</th>\n",
       "      <th>Segmento de Mercado</th>\n",
       "      <th>Área</th>\n",
       "      <th>Assunto</th>\n",
       "      <th>Grupo Problema</th>\n",
       "      <th>Problema</th>\n",
       "      <th>Como Comprou Contratou</th>\n",
       "      <th>Procurou Empresa</th>\n",
       "      <th>Respondida</th>\n",
       "      <th>Situação</th>\n",
       "      <th>Avaliação Reclamação</th>\n",
       "      <th>Nota do Consumidor</th>\n",
       "      <th>Total</th>\n",
       "    </tr>\n",
       "  </thead>\n",
       "  <tbody>\n",
       "    <tr>\n",
       "      <th>0</th>\n",
       "      <td>S</td>\n",
       "      <td>PR</td>\n",
       "      <td>Curitiba</td>\n",
       "      <td>F</td>\n",
       "      <td>entre 31 a 40 anos</td>\n",
       "      <td>01/01/2020</td>\n",
       "      <td>10.0</td>\n",
       "      <td>Itaucard</td>\n",
       "      <td>Bancos, Financeiras e Administradoras de Cartão</td>\n",
       "      <td>Serviços Financeiros</td>\n",
       "      <td>Banco de Dados e Cadastros de Consumidores (SP...</td>\n",
       "      <td>Cobrança / Contestação</td>\n",
       "      <td>Cobrança de tarifas, taxas, valores não previs...</td>\n",
       "      <td>SMS / Mensagem de texto</td>\n",
       "      <td>N</td>\n",
       "      <td>S</td>\n",
       "      <td>Finalizada não avaliada</td>\n",
       "      <td>Não Avaliada</td>\n",
       "      <td>NaN</td>\n",
       "      <td>1</td>\n",
       "    </tr>\n",
       "    <tr>\n",
       "      <th>1</th>\n",
       "      <td>S</td>\n",
       "      <td>PR</td>\n",
       "      <td>São José dos Pinhais</td>\n",
       "      <td>F</td>\n",
       "      <td>entre 21 a 30 anos</td>\n",
       "      <td>01/01/2020</td>\n",
       "      <td>10.0</td>\n",
       "      <td>Tim</td>\n",
       "      <td>Operadoras de Telecomunicações (Telefonia, Int...</td>\n",
       "      <td>Telecomunicações</td>\n",
       "      <td>Internet Móvel</td>\n",
       "      <td>Contrato / Oferta</td>\n",
       "      <td>Alteração de plano/contrato sem solicitação ou...</td>\n",
       "      <td>Internet</td>\n",
       "      <td>N</td>\n",
       "      <td>S</td>\n",
       "      <td>Finalizada não avaliada</td>\n",
       "      <td>Não Avaliada</td>\n",
       "      <td>NaN</td>\n",
       "      <td>1</td>\n",
       "    </tr>\n",
       "    <tr>\n",
       "      <th>2</th>\n",
       "      <td>SE</td>\n",
       "      <td>ES</td>\n",
       "      <td>Serra</td>\n",
       "      <td>M</td>\n",
       "      <td>entre 41 a 50 anos</td>\n",
       "      <td>03/01/2020</td>\n",
       "      <td>9.0</td>\n",
       "      <td>SKY</td>\n",
       "      <td>Operadoras de Telecomunicações (Telefonia, Int...</td>\n",
       "      <td>Telecomunicações</td>\n",
       "      <td>TV por Assinatura</td>\n",
       "      <td>Atendimento / SAC</td>\n",
       "      <td>Dificuldade de contato / acesso a outros canai...</td>\n",
       "      <td>Loja física</td>\n",
       "      <td>S</td>\n",
       "      <td>S</td>\n",
       "      <td>Finalizada não avaliada</td>\n",
       "      <td>Não Avaliada</td>\n",
       "      <td>NaN</td>\n",
       "      <td>1</td>\n",
       "    </tr>\n",
       "    <tr>\n",
       "      <th>3</th>\n",
       "      <td>SE</td>\n",
       "      <td>SP</td>\n",
       "      <td>Jundiaí</td>\n",
       "      <td>M</td>\n",
       "      <td>entre 31 a 40 anos</td>\n",
       "      <td>04/01/2020</td>\n",
       "      <td>9.0</td>\n",
       "      <td>Americanas.com</td>\n",
       "      <td>Comércio Eletrônico</td>\n",
       "      <td>Produtos Eletrodomésticos e Eletrônicos</td>\n",
       "      <td>Eletroportáteis ( batedeira, liquidificador, u...</td>\n",
       "      <td>Contrato / Oferta</td>\n",
       "      <td>Oferta não cumprida / serviço não fornecido/ v...</td>\n",
       "      <td>Internet</td>\n",
       "      <td>N</td>\n",
       "      <td>S</td>\n",
       "      <td>Finalizada não avaliada</td>\n",
       "      <td>Não Avaliada</td>\n",
       "      <td>NaN</td>\n",
       "      <td>1</td>\n",
       "    </tr>\n",
       "    <tr>\n",
       "      <th>4</th>\n",
       "      <td>S</td>\n",
       "      <td>RS</td>\n",
       "      <td>Porto Alegre</td>\n",
       "      <td>M</td>\n",
       "      <td>entre 61 a 70 anos</td>\n",
       "      <td>07/01/2020</td>\n",
       "      <td>10.0</td>\n",
       "      <td>Banco BMG</td>\n",
       "      <td>Bancos, Financeiras e Administradoras de Cartão</td>\n",
       "      <td>Serviços Financeiros</td>\n",
       "      <td>Crédito Pessoal e Demais Empréstimos (exceto f...</td>\n",
       "      <td>Atendimento / SAC</td>\n",
       "      <td>SAC - Demanda não resolvida / não respondida /...</td>\n",
       "      <td>Loja física</td>\n",
       "      <td>S</td>\n",
       "      <td>S</td>\n",
       "      <td>Finalizada não avaliada</td>\n",
       "      <td>Não Avaliada</td>\n",
       "      <td>NaN</td>\n",
       "      <td>1</td>\n",
       "    </tr>\n",
       "  </tbody>\n",
       "</table>\n",
       "</div>"
      ],
      "text/plain": [
       "  Região  UF                Cidade Sexo        Faixa Etária Data Finalização  \\\n",
       "0     S   PR              Curitiba    F  entre 31 a 40 anos       01/01/2020   \n",
       "1     S   PR  São José dos Pinhais    F  entre 21 a 30 anos       01/01/2020   \n",
       "2     SE  ES                 Serra    M  entre 41 a 50 anos       03/01/2020   \n",
       "3     SE  SP               Jundiaí    M  entre 31 a 40 anos       04/01/2020   \n",
       "4     S   RS          Porto Alegre    M  entre 61 a 70 anos       07/01/2020   \n",
       "\n",
       "   Tempo Resposta   Nome Fantasia  \\\n",
       "0            10.0        Itaucard   \n",
       "1            10.0             Tim   \n",
       "2             9.0             SKY   \n",
       "3             9.0  Americanas.com   \n",
       "4            10.0       Banco BMG   \n",
       "\n",
       "                                 Segmento de Mercado  \\\n",
       "0    Bancos, Financeiras e Administradoras de Cartão   \n",
       "1  Operadoras de Telecomunicações (Telefonia, Int...   \n",
       "2  Operadoras de Telecomunicações (Telefonia, Int...   \n",
       "3                                Comércio Eletrônico   \n",
       "4    Bancos, Financeiras e Administradoras de Cartão   \n",
       "\n",
       "                                      Área  \\\n",
       "0                     Serviços Financeiros   \n",
       "1                         Telecomunicações   \n",
       "2                         Telecomunicações   \n",
       "3  Produtos Eletrodomésticos e Eletrônicos   \n",
       "4                     Serviços Financeiros   \n",
       "\n",
       "                                             Assunto          Grupo Problema  \\\n",
       "0  Banco de Dados e Cadastros de Consumidores (SP...  Cobrança / Contestação   \n",
       "1                                     Internet Móvel       Contrato / Oferta   \n",
       "2                                  TV por Assinatura       Atendimento / SAC   \n",
       "3  Eletroportáteis ( batedeira, liquidificador, u...       Contrato / Oferta   \n",
       "4  Crédito Pessoal e Demais Empréstimos (exceto f...       Atendimento / SAC   \n",
       "\n",
       "                                            Problema   Como Comprou Contratou  \\\n",
       "0  Cobrança de tarifas, taxas, valores não previs...  SMS / Mensagem de texto   \n",
       "1  Alteração de plano/contrato sem solicitação ou...                 Internet   \n",
       "2  Dificuldade de contato / acesso a outros canai...              Loja física   \n",
       "3  Oferta não cumprida / serviço não fornecido/ v...                 Internet   \n",
       "4  SAC - Demanda não resolvida / não respondida /...              Loja física   \n",
       "\n",
       "  Procurou Empresa Respondida                 Situação Avaliação Reclamação  \\\n",
       "0                N          S  Finalizada não avaliada         Não Avaliada   \n",
       "1                N          S  Finalizada não avaliada         Não Avaliada   \n",
       "2                S          S  Finalizada não avaliada         Não Avaliada   \n",
       "3                N          S  Finalizada não avaliada         Não Avaliada   \n",
       "4                S          S  Finalizada não avaliada         Não Avaliada   \n",
       "\n",
       "   Nota do Consumidor  Total  \n",
       "0                 NaN      1  \n",
       "1                 NaN      1  \n",
       "2                 NaN      1  \n",
       "3                 NaN      1  \n",
       "4                 NaN      1  "
      ]
     },
     "execution_count": 199,
     "metadata": {},
     "output_type": "execute_result"
    }
   ],
   "source": [
    "df.head()"
   ]
  },
  {
   "cell_type": "code",
   "execution_count": 200,
   "metadata": {},
   "outputs": [
    {
     "data": {
      "text/plain": [
       "(631967, 20)"
      ]
     },
     "execution_count": 200,
     "metadata": {},
     "output_type": "execute_result"
    }
   ],
   "source": [
    "df.shape"
   ]
  },
  {
   "cell_type": "code",
   "execution_count": 201,
   "metadata": {},
   "outputs": [
    {
     "name": "stdout",
     "output_type": "stream",
     "text": [
      "<class 'pandas.core.frame.DataFrame'>\n",
      "Int64Index: 631967 entries, 0 to 631966\n",
      "Data columns (total 20 columns):\n",
      " #   Column                  Non-Null Count   Dtype  \n",
      "---  ------                  --------------   -----  \n",
      " 0   Região                  631967 non-null  object \n",
      " 1   UF                      631967 non-null  object \n",
      " 2   Cidade                  631967 non-null  object \n",
      " 3   Sexo                    631967 non-null  object \n",
      " 4   Faixa Etária            631967 non-null  object \n",
      " 5   Data Finalização        631967 non-null  object \n",
      " 6   Tempo Resposta          625128 non-null  float64\n",
      " 7   Nome Fantasia           631967 non-null  object \n",
      " 8   Segmento de Mercado     631967 non-null  object \n",
      " 9   Área                    631967 non-null  object \n",
      " 10  Assunto                 631967 non-null  object \n",
      " 11  Grupo Problema          631967 non-null  object \n",
      " 12  Problema                631967 non-null  object \n",
      " 13  Como Comprou Contratou  631967 non-null  object \n",
      " 14  Procurou Empresa        631967 non-null  object \n",
      " 15  Respondida              631967 non-null  object \n",
      " 16  Situação                631967 non-null  object \n",
      " 17  Avaliação Reclamação    631967 non-null  object \n",
      " 18  Nota do Consumidor      352766 non-null  float64\n",
      " 19  Total                   631967 non-null  int64  \n",
      "dtypes: float64(2), int64(1), object(17)\n",
      "memory usage: 101.3+ MB\n"
     ]
    }
   ],
   "source": [
    "df.info()"
   ]
  },
  {
   "cell_type": "code",
   "execution_count": 244,
   "metadata": {},
   "outputs": [
    {
     "data": {
      "text/plain": [
       "Região                         0\n",
       "UF                             0\n",
       "Cidade                         0\n",
       "Sexo                           0\n",
       "Faixa Etária                   0\n",
       "Data Finalização               0\n",
       "Tempo Resposta              6839\n",
       "Nome Fantasia                  0\n",
       "Segmento de Mercado            0\n",
       "Área                           0\n",
       "Assunto                        0\n",
       "Grupo Problema                 0\n",
       "Problema                       0\n",
       "Como Comprou Contratou         0\n",
       "Procurou Empresa               0\n",
       "Respondida                     0\n",
       "Situação                       0\n",
       "Avaliação Reclamação           0\n",
       "Nota do Consumidor        279201\n",
       "Total                          0\n",
       "Mês                            0\n",
       "dtype: int64"
      ]
     },
     "execution_count": 244,
     "metadata": {},
     "output_type": "execute_result"
    }
   ],
   "source": [
    "# Verifica a existência de dados faltantes no dataset\n",
    "df.isna().sum()"
   ]
  },
  {
   "cell_type": "code",
   "execution_count": 202,
   "metadata": {},
   "outputs": [],
   "source": [
    "# Transforma a coluna Data Finalização em datetime\n",
    "df['Data Finalização'] = pd.to_datetime(df['Data Finalização'], format='%d/%m/%Y')"
   ]
  },
  {
   "cell_type": "code",
   "execution_count": 203,
   "metadata": {},
   "outputs": [],
   "source": [
    "# Adiciona a coluna Mês\n",
    "df['Mês'] = df['Data Finalização'].dt.strftime('%m').astype('int')"
   ]
  },
  {
   "cell_type": "code",
   "execution_count": 204,
   "metadata": {},
   "outputs": [],
   "source": [
    "internet = df[df['Assunto'] == 'Internet Móvel']"
   ]
  },
  {
   "cell_type": "code",
   "execution_count": 224,
   "metadata": {},
   "outputs": [
    {
     "data": {
      "text/plain": [
       "(11815, 21)"
      ]
     },
     "execution_count": 224,
     "metadata": {},
     "output_type": "execute_result"
    }
   ],
   "source": [
    "internet.shape"
   ]
  },
  {
   "cell_type": "markdown",
   "metadata": {},
   "source": [
    "### H1 - Existe alguma predominância de sexo nos consumidores? "
   ]
  },
  {
   "cell_type": "code",
   "execution_count": 225,
   "metadata": {},
   "outputs": [
    {
     "data": {
      "text/plain": [
       "M    59.940753\n",
       "F    40.059247\n",
       "Name: Sexo, dtype: float64"
      ]
     },
     "execution_count": 225,
     "metadata": {},
     "output_type": "execute_result"
    }
   ],
   "source": [
    "internet['Sexo'].value_counts() / internet.shape[0] * 100"
   ]
  },
  {
   "cell_type": "code",
   "execution_count": 206,
   "metadata": {},
   "outputs": [
    {
     "data": {
      "text/plain": [
       "Text(0.5, 1.0, 'Reclamações - Internet Móvel')"
      ]
     },
     "execution_count": 206,
     "metadata": {},
     "output_type": "execute_result"
    },
    {
     "data": {
      "image/png": "[encoded data removed]",
      "text/plain": [
       "<Figure size 720x576 with 1 Axes>"
      ]
     },
     "metadata": {
      "needs_background": "light"
     },
     "output_type": "display_data"
    }
   ],
   "source": [
    "plt.figure(figsize=(10,8))\n",
    "ax = sns.barplot(internet['Sexo'].value_counts().index, internet['Sexo'].value_counts(), palette=['limegreen', 'g'], order=['F', 'M'])\n",
    "plt.xlabel('Sexo')\n",
    "plt.ylabel('Quantidade de reclamações')\n",
    "plt.title('Reclamações - Internet Móvel', size=15)"
   ]
  },
  {
   "cell_type": "markdown",
   "metadata": {},
   "source": [
    "#### Sim. A partir dos dados de sexo, verifica-se que 60% dos consumidores que fizeram alguma reclação de Internet Móvel são homens."
   ]
  },
  {
   "cell_type": "markdown",
   "metadata": {},
   "source": [
    "### H2 - Qual a faixa etária mais frequente entre os consumidores?"
   ]
  },
  {
   "cell_type": "code",
   "execution_count": 209,
   "metadata": {},
   "outputs": [
    {
     "data": {
      "text/plain": [
       "0    entre 31 a 40 anos\n",
       "dtype: object"
      ]
     },
     "execution_count": 209,
     "metadata": {},
     "output_type": "execute_result"
    }
   ],
   "source": [
    "internet['Faixa Etária'].mode()"
   ]
  },
  {
   "cell_type": "code",
   "execution_count": 210,
   "metadata": {},
   "outputs": [
    {
     "data": {
      "text/plain": [
       "entre 31 a 40 anos    33.228946\n",
       "entre 21 a 30 anos    30.892933\n",
       "entre 41 a 50 anos    17.325434\n",
       "entre 51 a 60 anos     9.462548\n",
       "entre 61 a 70 anos     4.705882\n",
       "até 20 anos            2.589928\n",
       "mais de 70 anos        1.794329\n",
       "Name: Faixa Etária, dtype: float64"
      ]
     },
     "execution_count": 210,
     "metadata": {},
     "output_type": "execute_result"
    }
   ],
   "source": [
    "internet['Faixa Etária'].value_counts() / internet.shape[0] * 100"
   ]
  },
  {
   "cell_type": "code",
   "execution_count": 233,
   "metadata": {},
   "outputs": [
    {
     "data": {
      "text/plain": [
       "Text(0.5, 0, 'Quantidade de reclamações')"
      ]
     },
     "execution_count": 233,
     "metadata": {},
     "output_type": "execute_result"
    },
    {
     "data": {
      "image/png": "[encoded data removed]",
      "text/plain": [
       "<Figure size 720x576 with 1 Axes>"
      ]
     },
     "metadata": {
      "needs_background": "light"
     },
     "output_type": "display_data"
    }
   ],
   "source": [
    "plt.figure(figsize=(10,8))\n",
    "ax = sns.barplot(internet['Faixa Etária'].value_counts(), internet['Faixa Etária'].value_counts().index,\n",
    "                 orient='h', order=[\n",
    "                     'até 20 anos', 'entre 21 a 30 anos', 'entre 31 a 40 anos', 'entre 41 a 50 anos', \n",
    "                       'entre 51 a 60 anos', 'entre 61 a 70 anos', 'mais de 70 anos'],\n",
    "                palette=['limegreen', 'limegreen', 'g', 'limegreen', 'limegreen', 'limegreen', 'limegreen'])\n",
    "plt.xlabel('Quantidade de reclamações')"
   ]
  },
  {
   "cell_type": "markdown",
   "metadata": {},
   "source": [
    "#### A faixa etária média mais frequente entre os consumidores que fizeram alguma reclamação é entre 31 a 40 anos. Mas será que existe diferença entre homens e mulheres?"
   ]
  },
  {
   "cell_type": "code",
   "execution_count": 212,
   "metadata": {},
   "outputs": [
    {
     "data": {
      "text/html": [
       "<div>\n",
       "<style scoped>\n",
       "    .dataframe tbody tr th:only-of-type {\n",
       "        vertical-align: middle;\n",
       "    }\n",
       "\n",
       "    .dataframe tbody tr th {\n",
       "        vertical-align: top;\n",
       "    }\n",
       "\n",
       "    .dataframe thead th {\n",
       "        text-align: right;\n",
       "    }\n",
       "</style>\n",
       "<table border=\"1\" class=\"dataframe\">\n",
       "  <thead>\n",
       "    <tr style=\"text-align: right;\">\n",
       "      <th></th>\n",
       "      <th>count</th>\n",
       "      <th>unique</th>\n",
       "      <th>top</th>\n",
       "      <th>freq</th>\n",
       "    </tr>\n",
       "    <tr>\n",
       "      <th>Sexo</th>\n",
       "      <th></th>\n",
       "      <th></th>\n",
       "      <th></th>\n",
       "      <th></th>\n",
       "    </tr>\n",
       "  </thead>\n",
       "  <tbody>\n",
       "    <tr>\n",
       "      <th>F</th>\n",
       "      <td>4733</td>\n",
       "      <td>7</td>\n",
       "      <td>entre 31 a 40 anos</td>\n",
       "      <td>1420</td>\n",
       "    </tr>\n",
       "    <tr>\n",
       "      <th>M</th>\n",
       "      <td>7082</td>\n",
       "      <td>7</td>\n",
       "      <td>entre 31 a 40 anos</td>\n",
       "      <td>2506</td>\n",
       "    </tr>\n",
       "  </tbody>\n",
       "</table>\n",
       "</div>"
      ],
      "text/plain": [
       "     count unique                 top  freq\n",
       "Sexo                                       \n",
       "F     4733      7  entre 31 a 40 anos  1420\n",
       "M     7082      7  entre 31 a 40 anos  2506"
      ]
     },
     "execution_count": 212,
     "metadata": {},
     "output_type": "execute_result"
    }
   ],
   "source": [
    "internet.groupby('Sexo')['Faixa Etária'].describe()"
   ]
  },
  {
   "cell_type": "code",
   "execution_count": 213,
   "metadata": {},
   "outputs": [
    {
     "data": {
      "text/plain": [
       "Text(0.5, 0, 'Quantidade de reclamações')"
      ]
     },
     "execution_count": 213,
     "metadata": {},
     "output_type": "execute_result"
    },
    {
     "data": {
      "image/png": "[encoded data removed]",
      "text/plain": [
       "<Figure size 1080x720 with 1 Axes>"
      ]
     },
     "metadata": {
      "needs_background": "light"
     },
     "output_type": "display_data"
    }
   ],
   "source": [
    "plt.figure(figsize=(15,10))\n",
    "_ = internet.groupby('Sexo')['Faixa Etária'].value_counts()\n",
    "sns.barplot(x=_, y=_.index, orient='h', palette=['limegreen', 'g'], order=[\n",
    "                     ('F','até 20 anos'), ('M', 'até 20 anos'), ('F','entre 21 a 30 anos'), ('M','entre 21 a 30 anos'),\n",
    "    ('F','entre 31 a 40 anos'), ('M','entre 31 a 40 anos'), ('F','entre 41 a 50 anos'), ('M','entre 41 a 50 anos'), \n",
    "    ('F', 'entre 51 a 60 anos'), ('M', 'entre 51 a 60 anos'), ('F','entre 61 a 70 anos'), ('M', 'entre 61 a 70 anos'),\n",
    "    ('F','mais de 70 anos'), ('M', 'mais de 70 anos')])\n",
    "plt.xlabel('Quantidade de reclamações')"
   ]
  },
  {
   "cell_type": "markdown",
   "metadata": {},
   "source": [
    "#### A faixa etária mais frequente é entre 31 a 40 anos para ambos os sexos. Porém, o gráfico mostra um comportamento interessante. Até a faixa etária de 61 anos, há predominância de homens. A partir de 61 anos, o sexo feminino apresenta maiores números."
   ]
  },
  {
   "cell_type": "markdown",
   "metadata": {},
   "source": [
    "### H3 - Qual o grupo de problema mais frequente?"
   ]
  },
  {
   "cell_type": "code",
   "execution_count": 214,
   "metadata": {},
   "outputs": [
    {
     "data": {
      "text/plain": [
       "Cobrança / Contestação    44.841303\n",
       "Contrato / Oferta         21.811257\n",
       "Vício de Qualidade        16.826069\n",
       "Atendimento / SAC         14.845535\n",
       "Informação                 1.675836\n",
       "Name: Grupo Problema, dtype: float64"
      ]
     },
     "execution_count": 214,
     "metadata": {},
     "output_type": "execute_result"
    }
   ],
   "source": [
    "internet['Grupo Problema'].value_counts() / internet.shape[0] * 100"
   ]
  },
  {
   "cell_type": "code",
   "execution_count": 235,
   "metadata": {},
   "outputs": [
    {
     "data": {
      "text/plain": [
       "Text(0.5, 0, 'Quantidade de reclamações')"
      ]
     },
     "execution_count": 235,
     "metadata": {},
     "output_type": "execute_result"
    },
    {
     "data": {
      "image/png": "[encoded data removed]",
      "text/plain": [
       "<Figure size 720x576 with 1 Axes>"
      ]
     },
     "metadata": {
      "needs_background": "light"
     },
     "output_type": "display_data"
    }
   ],
   "source": [
    "plt.figure(figsize=(10,8))\n",
    "ax = sns.barplot(internet['Grupo Problema'].value_counts(), internet['Grupo Problema'].value_counts().index,\n",
    "                 color='g', orient='h')\n",
    "plt.xlabel('Quantidade de reclamações')"
   ]
  },
  {
   "cell_type": "markdown",
   "metadata": {},
   "source": [
    "#### Cerca de 45% das reclamações são a respeito do grupo de problema cobrança. Vamos analisar melhor esse grupo:"
   ]
  },
  {
   "cell_type": "code",
   "execution_count": 216,
   "metadata": {},
   "outputs": [
    {
     "data": {
      "text/plain": [
       "Cobrança indevida / abusiva para alterar ou cancelar o contrato                         28.029445\n",
       "Cobrança por serviço/produto não contratado / não reconhecido / não solicitado          21.593054\n",
       "Cobrança após cancelamento do serviço                                                   20.592676\n",
       "Cobrança por serviço não fornecido/ em desacordo com a utilização / fora do prazo       11.136278\n",
       "Cobrança em duplicidade / Cobrança referente a pagamento já efetuado                     6.625142\n",
       "Negativação indevida (SPC, Serasa, SCPC etc)                                             4.983012\n",
       "Renegociação / parcelamento de dívida                                                    2.925632\n",
       "Dificuldade / atraso na devolução de valores pagos / reembolso / retenção de valores     2.321631\n",
       "Cobrança submetendo a ofensa, constrangimento ou ameaça                                  1.094753\n",
       "Não envio / atraso do boleto ou fatura / dificuldade com o pagamento                     0.698377\n",
       "Name: Problema, dtype: float64"
      ]
     },
     "execution_count": 216,
     "metadata": {},
     "output_type": "execute_result"
    }
   ],
   "source": [
    "cobranca = internet[internet['Grupo Problema'] == 'Cobrança / Contestação']\n",
    "cobranca['Problema'].value_counts() / cobranca.shape[0] * 100"
   ]
  },
  {
   "cell_type": "code",
   "execution_count": 217,
   "metadata": {},
   "outputs": [
    {
     "data": {
      "text/plain": [
       "Text(0.5, 0, 'Quantidade de reclamações')"
      ]
     },
     "execution_count": 217,
     "metadata": {},
     "output_type": "execute_result"
    },
    {
     "data": {
      "image/png": "[encoded data removed]",
      "text/plain": [
       "<Figure size 720x576 with 1 Axes>"
      ]
     },
     "metadata": {
      "needs_background": "light"
     },
     "output_type": "display_data"
    }
   ],
   "source": [
    "plt.figure(figsize=(10,8))\n",
    "ax = sns.barplot(cobranca['Problema'].value_counts(), cobranca['Problema'].value_counts().index,\n",
    "                 color='g', orient='h')\n",
    "plt.xlabel('Quantidade de reclamações')"
   ]
  },
  {
   "cell_type": "markdown",
   "metadata": {},
   "source": [
    "### H3 - Quais são os principais meios de contratação dos serviços?"
   ]
  },
  {
   "cell_type": "code",
   "execution_count": 218,
   "metadata": {},
   "outputs": [
    {
     "data": {
      "text/plain": [
       "Internet                   28.861617\n",
       "Telefone                   27.778248\n",
       "Loja física                23.190859\n",
       "Não comprei / contratei    16.369022\n",
       "Domicílio                   1.371138\n",
       "SMS / Mensagem de texto     1.303428\n",
       "Stand, feiras e eventos     0.499365\n",
       "Ganhei de presente          0.448582\n",
       "Catálogo                    0.177740\n",
       "Name: Como Comprou Contratou, dtype: float64"
      ]
     },
     "execution_count": 218,
     "metadata": {},
     "output_type": "execute_result"
    }
   ],
   "source": [
    "internet['Como Comprou Contratou'].value_counts() / internet.shape[0] * 100"
   ]
  },
  {
   "cell_type": "code",
   "execution_count": 236,
   "metadata": {},
   "outputs": [
    {
     "data": {
      "text/plain": [
       "Text(0.5, 0, 'Quantidade de reclamações')"
      ]
     },
     "execution_count": 236,
     "metadata": {},
     "output_type": "execute_result"
    },
    {
     "data": {
      "image/png": "[encoded data removed]",
      "text/plain": [
       "<Figure size 720x576 with 1 Axes>"
      ]
     },
     "metadata": {
      "needs_background": "light"
     },
     "output_type": "display_data"
    }
   ],
   "source": [
    "plt.figure(figsize=(10,8))\n",
    "ax = sns.barplot(internet['Como Comprou Contratou'].value_counts()[:3], \n",
    "                 internet['Como Comprou Contratou'].value_counts()[:3].index,\n",
    "                 color='g', orient='h')\n",
    "plt.xlabel('Quantidade de reclamações')"
   ]
  },
  {
   "cell_type": "markdown",
   "metadata": {},
   "source": [
    "#### Cerca de 80% das aquisições de internet móvel são feitas através de internet, telefone e loja física."
   ]
  },
  {
   "cell_type": "markdown",
   "metadata": {},
   "source": [
    "### H5 - Quais são os principais concorrentes desse segmento?"
   ]
  },
  {
   "cell_type": "code",
   "execution_count": 237,
   "metadata": {},
   "outputs": [
    {
     "data": {
      "text/plain": [
       "Tim                        29.961913\n",
       "Claro Celular              25.264494\n",
       "Vivo - Telefônica (GVT)    23.021583\n",
       "Oi Celular                 12.814219\n",
       "NET                         3.207787\n",
       "Nextel                      2.471435\n",
       "Oi Fixo                     2.082099\n",
       "SKY                         0.947948\n",
       "Algar Celular               0.135421\n",
       "Claro TV                    0.067711\n",
       "Algar Fixo                  0.025391\n",
       "Name: Nome Fantasia, dtype: float64"
      ]
     },
     "execution_count": 237,
     "metadata": {},
     "output_type": "execute_result"
    }
   ],
   "source": [
    "internet['Nome Fantasia'].value_counts() / internet.shape[0] * 100"
   ]
  },
  {
   "cell_type": "code",
   "execution_count": 245,
   "metadata": {},
   "outputs": [
    {
     "data": {
      "text/plain": [
       "Text(0.5, 0, 'Quantidade de reclamações')"
      ]
     },
     "execution_count": 245,
     "metadata": {},
     "output_type": "execute_result"
    },
    {
     "data": {
      "image/png": "[encoded data removed]",
      "text/plain": [
       "<Figure size 720x576 with 1 Axes>"
      ]
     },
     "metadata": {
      "needs_background": "light"
     },
     "output_type": "display_data"
    }
   ],
   "source": [
    "plt.figure(figsize=(10,8))\n",
    "ax = sns.barplot(internet['Nome Fantasia'].value_counts(), \n",
    "                 internet['Nome Fantasia'].value_counts().index,\n",
    "                 color='g', orient='h')\n",
    "plt.xlabel('Quantidade de reclamações')"
   ]
  },
  {
   "cell_type": "markdown",
   "metadata": {},
   "source": [
    "### H6 - A quarentena afetou esse segmento?"
   ]
  },
  {
   "cell_type": "code",
   "execution_count": 246,
   "metadata": {},
   "outputs": [
    {
     "data": {
      "text/plain": [
       "Mês\n",
       "1    1733\n",
       "2    1509\n",
       "3    1531\n",
       "4    1652\n",
       "5    1701\n",
       "6    1780\n",
       "7    1909\n",
       "Name: Total, dtype: int64"
      ]
     },
     "execution_count": 246,
     "metadata": {},
     "output_type": "execute_result"
    }
   ],
   "source": [
    "internet.groupby('Mês')['Total'].count()"
   ]
  },
  {
   "cell_type": "code",
   "execution_count": 247,
   "metadata": {},
   "outputs": [
    {
     "data": {
      "text/plain": [
       "(1000.0, 2000.0)"
      ]
     },
     "execution_count": 247,
     "metadata": {},
     "output_type": "execute_result"
    },
    {
     "data": {
      "image/png": "[encoded data removed]",
      "text/plain": [
       "<Figure size 720x576 with 1 Axes>"
      ]
     },
     "metadata": {
      "needs_background": "light"
     },
     "output_type": "display_data"
    }
   ],
   "source": [
    "plt.figure(figsize=(10,8))\n",
    "_ = internet.groupby('Mês')['Total'].count()\n",
    "sns.lineplot(_.index, _, color='g')\n",
    "plt.ylabel('Quantidade de reclamações')\n",
    "plt.xlabel('Mês')\n",
    "plt.xticks([1,2,3,4,5,6,7],['Jan','Fev','Mar','Abr','Mai','Jun','Jul'])\n",
    "plt.ylim([1000, 2000])"
   ]
  },
  {
   "cell_type": "markdown",
   "metadata": {},
   "source": [
    "#### A partir de abril, o gráfico apresenta um comportamento de elevação, indicando que as reclamações aumentaram após a quarentena. Isso pode estar relacionado ao aumento da insatisfação ou ao aumento de contratações do serviço."
   ]
  }
 ],
 "metadata": {
  "kernelspec": {
   "display_name": "Dev",
   "language": "python",
   "name": "dev"
  },
  "language_info": {
   "codemirror_mode": {
    "name": "ipython",
    "version": 3
   },
   "file_extension": ".py",
   "mimetype": "text/x-python",
   "name": "python",
   "nbconvert_exporter": "python",
   "pygments_lexer": "ipython3",
   "version": "3.7.7"
  }
 },
 "nbformat": 4,
 "nbformat_minor": 4
}
